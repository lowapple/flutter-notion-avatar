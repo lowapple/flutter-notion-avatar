{
 "cells": [
  {
   "cell_type": "code",
   "execution_count": 23,
   "metadata": {},
   "outputs": [
    {
     "name": "stdout",
     "output_type": "stream",
     "text": [
      "accessories\n",
      "beard\n",
      "details\n",
      "eyebrows\n",
      "eyes\n",
      "face\n",
      "glasses\n",
      "hair\n",
      "mouth\n",
      "nose\n"
     ]
    }
   ],
   "source": [
    "from PIL import Image, ImageDraw, ImageFont\n",
    "import os\n",
    "\n",
    "assets = [\n",
    "    'accessories',\n",
    "    'beard',\n",
    "    'details',\n",
    "    'eyebrows',\n",
    "    'eyes',\n",
    "    'face',\n",
    "    'glasses',\n",
    "    'hair',\n",
    "    'mouth',\n",
    "    'nose'\n",
    "]\n",
    "\n",
    "def generate(name):\n",
    "    print(name)\n",
    "    folder_path = f'/Users/lowapple/Downloads/preview/{name}'\n",
    "    images = [f for f in os.listdir(folder_path) if f.endswith('.png')]\n",
    "    images = [(Image.open(os.path.join(folder_path, f)), f) for f in images]\n",
    "\n",
    "    max_per_row = 5\n",
    "    num_rows = (len(images) // max_per_row) + (len(images) % max_per_row > 0)\n",
    "\n",
    "    image_width = images[0][0].width\n",
    "    image_height = images[0][0].height\n",
    "    text_height = 150\n",
    "    padding = 10\n",
    "\n",
    "    total_width = image_width * min(max_per_row, len(images))\n",
    "    total_height = (image_height + text_height + padding) * num_rows\n",
    "\n",
    "    new_image = Image.new('RGBA', (total_width, total_height), color=(0,0,0,0))\n",
    "    draw = ImageDraw.Draw(new_image)\n",
    "    font = ImageFont.truetype(\"pretendard.ttf\", text_height)\n",
    "\n",
    "    x_offset = 0\n",
    "    y_offset = 0\n",
    "    for idx, (image, filename) in enumerate(images):\n",
    "        new_image.paste(image, (x_offset, y_offset), image)\n",
    "        draw.text((x_offset + (image_width / 2), y_offset + image_height + padding), str(idx), fill=\"black\", font=font)  # 텍스트 추가\n",
    "        x_offset += image_width\n",
    "        if (idx + 1) % max_per_row == 0:\n",
    "            x_offset = 0\n",
    "            y_offset += (image_height + text_height + padding)\n",
    "\n",
    "    new_image.save(f'{name}.png')\n",
    "\n",
    "for asset in assets:\n",
    "    generate(asset)\n"
   ]
  }
 ],
 "metadata": {
  "kernelspec": {
   "display_name": "py",
   "language": "python",
   "name": "python3"
  },
  "language_info": {
   "codemirror_mode": {
    "name": "ipython",
    "version": 3
   },
   "file_extension": ".py",
   "mimetype": "text/x-python",
   "name": "python",
   "nbconvert_exporter": "python",
   "pygments_lexer": "ipython3",
   "version": "3.9.17"
  },
  "orig_nbformat": 4
 },
 "nbformat": 4,
 "nbformat_minor": 2
}
